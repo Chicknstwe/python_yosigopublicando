{
 "cells": [
  {
   "cell_type": "markdown",
   "metadata": {},
   "source": [
    "1.- Escriba un código que:\n",
    "\n",
    "* Pida un número al usuario.\n",
    "* Escriba en el documento `Es par.` si el número es par.\n",
    "* Escriba `No es par.` en caso de que no sea par."
   ]
  },
  {
   "cell_type": "code",
   "execution_count": null,
   "metadata": {},
   "outputs": [],
   "source": [
    "# Escriba aquí el ejercicio."
   ]
  },
  {
   "cell_type": "markdown",
   "metadata": {},
   "source": [
    "2.- Escriba un código que:\n",
    "* Pida un año al usuario.\n",
    "* Escriba `Es bisiesto.` si el año es bisiesto.\n",
    "* Escriba `No es bisiesto.` si el año no es bisiesto.\n",
    "\n",
    "Sobre años bisiestos: [año bisiesto wikipedia](https://es.wikipedia.org/wiki/A%C3%B1o_bisiesto)"
   ]
  },
  {
   "cell_type": "code",
   "execution_count": null,
   "metadata": {},
   "outputs": [],
   "source": [
    "# Escriba aquí el ejercicio."
   ]
  },
  {
   "cell_type": "markdown",
   "metadata": {},
   "source": [
    "3.- Escriba un código que:\n",
    "* Pida un número entero al usuario.\n",
    "* Calcule el factorial de dicho número.\n",
    "* Escriba el resultado en el documento.\n",
    "\n",
    "Sobre el factorial de un número: [factorial wikipedia](https://es.wikipedia.org/wiki/Factorial)"
   ]
  },
  {
   "cell_type": "code",
   "execution_count": null,
   "metadata": {},
   "outputs": [],
   "source": [
    "# Escriba aquí el ejercicio."
   ]
  },
  {
   "cell_type": "markdown",
   "metadata": {},
   "source": [
    "4.- Escriba un código que:\n",
    "* Pida un número entero `n` al usuario.\n",
    "* Calcule los primeros `n` elementos de la serie de Fibonacci y los guarde en una lista.\n",
    "* Escriba los resultados en un documento.\n",
    "\n",
    "Sobre la serie de Fibonacci: [serie de Fibonacci wikipedia](https://es.wikipedia.org/wiki/Sucesi%C3%B3n_de_Fibonacci)"
   ]
  },
  {
   "cell_type": "code",
   "execution_count": null,
   "metadata": {},
   "outputs": [],
   "source": [
    "# Escriba aquí el ejercicio."
   ]
  },
  {
   "cell_type": "markdown",
   "metadata": {},
   "source": [
    "5.- Dadas las listas `list_a` y `list_b` que constan en la celda siguiente, escriba un código que:\n",
    "* Determine qué elementos están en `list_a` o en `list_b`, pero no en ambas, y los guarde en una tercera lista.\n",
    "* Escriba en el documento los resultados."
   ]
  },
  {
   "cell_type": "code",
   "execution_count": null,
   "metadata": {},
   "outputs": [],
   "source": [
    "list_a = ['a', 'b', 12, 31.9, 5, 'wz']\n",
    "list_b = ['5', 31.9, 'foo', 12, 'a', 5, 'b']\n",
    "# Escriba aquí el ejercicio."
   ]
  },
  {
   "cell_type": "markdown",
   "metadata": {},
   "source": [
    "6.- Escriba un código que:\n",
    "* Pida una palabra al usuario.\n",
    "* Divida la palabra en variables string de 2 caracteres cada una y los guarde en una lista.\n",
    "* Escriba en el documento los resultados.\n",
    "\n",
    "Ejemplo: el usuario escribe `zapatilla` y el código devuelve `['za', 'pa', 'ti', 'll', 'a']`."
   ]
  },
  {
   "cell_type": "code",
   "execution_count": null,
   "metadata": {},
   "outputs": [],
   "source": [
    "# Escriba aquí el ejercicio."
   ]
  },
  {
   "cell_type": "markdown",
   "metadata": {},
   "source": [
    "7.- Escriba un código que:\n",
    "* Pida una oración al usuario.\n",
    "* Genere un diccionario que contenga un inventario de los caracteres que hay en dicha oración.\n",
    "* Escriba en el documento el diccionario resultante.\n",
    "\n",
    "Ejemplo: el usuario escribe `python is the best for data science` y el código devuelve el diccionario `{'p': 1, 'y': 1, 't': 4, 'h': 2, 'o': 2, 'n': 2, ' ': 6, 'i': 2, 's': 3, 'e': 4, 'b': 1, 'f': 1, 'r': 1, 'd': 1, 'a': 2, 'c': 2}`."
   ]
  },
  {
   "cell_type": "code",
   "execution_count": null,
   "metadata": {},
   "outputs": [],
   "source": [
    "# Escriba aquí el ejercicio."
   ]
  },
  {
   "cell_type": "markdown",
   "metadata": {},
   "source": [
    "8.- Dada la matriz que consta en la siguiente celda, escriba un código que:\n",
    "* Escriba en el documento su traspuesta. \n",
    "\n",
    "Sobre la traspuesta de una matriz: [traspuesta de una matriz wikipedia](https://es.wikipedia.org/wiki/Matriz_transpuesta)"
   ]
  },
  {
   "cell_type": "code",
   "execution_count": null,
   "metadata": {},
   "outputs": [],
   "source": [
    "matrix = [(7, 8, 9), (4, 2, 1), (8, 5, 3)]\n",
    "# Escriba aquí el ejercicio."
   ]
  },
  {
   "cell_type": "markdown",
   "metadata": {},
   "source": [
    "9.- Escriba un código que:\n",
    "* Pida una palabra al usuario.\n",
    "* Decida si es posible formar un palíndromo con los caracteres de dicha palabra, aunque haya que reordenarlos.\n",
    "* Escriba en el documento `True` si es posible formarlo o `False` si no lo es.\n",
    "\n",
    "Sobre los palíndromos: [palíndromos wikipedia](https://es.wikipedia.org/wiki/Pal%C3%ADndromo)"
   ]
  },
  {
   "cell_type": "code",
   "execution_count": null,
   "metadata": {},
   "outputs": [],
   "source": [
    "# Escriba aquí el ejercicio."
   ]
  },
  {
   "cell_type": "markdown",
   "metadata": {},
   "source": [
    "10.- Escriba un código que:\n",
    "* Pida un número entero `n` al usuario.\n",
    "* Decida si el número es primo o no.\n",
    "* Escriba en el documento `True` si lo es o `False` si no lo es.\n",
    "\n",
    "Sobre los números primos: [números primos wikipedia](https://es.wikipedia.org/wiki/N%C3%BAmero_primo)"
   ]
  },
  {
   "cell_type": "code",
   "execution_count": null,
   "metadata": {},
   "outputs": [],
   "source": [
    "# Escriba aquí el ejercicio."
   ]
  }
 ],
 "metadata": {
  "kernelspec": {
   "display_name": "Python 3",
   "language": "python",
   "name": "python3"
  },
  "language_info": {
   "codemirror_mode": {
    "name": "ipython",
    "version": 3
   },
   "file_extension": ".py",
   "mimetype": "text/x-python",
   "name": "python",
   "nbconvert_exporter": "python",
   "pygments_lexer": "ipython3",
   "version": "3.7.4"
  }
 },
 "nbformat": 4,
 "nbformat_minor": 4
}
