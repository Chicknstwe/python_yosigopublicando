{
 "cells": [
  {
   "cell_type": "markdown",
   "metadata": {},
   "source": [
    "# Ejemplo práctico: fusionar datos de diferentes ficheros excel en uno"
   ]
  },
  {
   "cell_type": "markdown",
   "metadata": {},
   "source": [
    "Al trabajar con datos puede darse la situación de que necesitemos unificar datos de diferentes bases o simplemente generar una nueva base con determinados datos de diferentes ficheros excel. En este documento se explica el procedimiento para poder automatizar esta tarea."
   ]
  },
  {
   "cell_type": "markdown",
   "metadata": {},
   "source": [
    "Las dos siguientes celdas deben ser ejecutadas si los paquetes `xlrd` y `openpyxl` no están instalados. En caso contrario se omiten."
   ]
  },
  {
   "cell_type": "code",
   "execution_count": null,
   "metadata": {},
   "outputs": [],
   "source": [
    "pip install xlrd"
   ]
  },
  {
   "cell_type": "code",
   "execution_count": null,
   "metadata": {},
   "outputs": [],
   "source": [
    "pip install openpyxl"
   ]
  },
  {
   "cell_type": "markdown",
   "metadata": {},
   "source": [
    "Antes de nada hay que importar los paquetes necesarios para trabajar con ficheros excel."
   ]
  },
  {
   "cell_type": "code",
   "execution_count": 1,
   "metadata": {},
   "outputs": [],
   "source": [
    "import xlrd\n",
    "from openpyxl import Workbook\n",
    "from os import listdir"
   ]
  },
  {
   "cell_type": "markdown",
   "metadata": {},
   "source": [
    "El primer paso es identificar todas las bases de datos que queremos fusionar. El siguiente fragmento de código recopila todos los ficheros excel (sólo `xlsx`) que se encuentren en la misma ubicación que este Notebook y no se llamen `output.xlsx`.\n",
    "\n",
    "En el siguiente fragmento de código se utilizan el método listdir() y las comprehensiones de lista:\n",
    "* Sobre el [método `listdir` y el paquete `os`](https://docs.python.org/3.8/library/os.html?highlight=os#os.listdir)\n",
    "* Sobre las [comprehensiones de lista](https://docs.python.org/3/tutorial/datastructures.html#list-comprehensions)."
   ]
  },
  {
   "cell_type": "code",
   "execution_count": 2,
   "metadata": {},
   "outputs": [
    {
     "name": "stdout",
     "output_type": "stream",
     "text": [
      "['database_1.xlsx', 'database_2.xlsx', 'database_3.xlsx']\n"
     ]
    }
   ],
   "source": [
    "files = [file for file in listdir() if file != 'output.xlsx' and file[-5:] == '.xlsx']\n",
    "print(files)"
   ]
  },
  {
   "cell_type": "code",
   "execution_count": 3,
   "metadata": {},
   "outputs": [
    {
     "name": "stdout",
     "output_type": "stream",
     "text": [
      "['database_1.xlsx', 'database_2.xlsx', 'database_3.xlsx']\n"
     ]
    }
   ],
   "source": [
    "\"\"\"\n",
    "Este fragmento de código tiene el mismo resultado que el de la celda anterior.\n",
    "Es una muestra de cómo se puede articular un mismo bucle en forma de comprehensión y de forma normal.\n",
    "\"\"\"\n",
    "files = []\n",
    "\n",
    "for file in listdir():\n",
    "    if file != 'output.xlsx' and file[-5:] == '.xlsx':\n",
    "        files.append(file)\n",
    "        \n",
    "print(files)"
   ]
  },
  {
   "cell_type": "markdown",
   "metadata": {},
   "source": [
    "De las siguientes tres celdas de código **sólo debe ejecutarse una**, ya que cumplen la misma función: seleccionar y extraer contenido de las bases de datos. La diferencia entre los tres fragmentos de código es qué información recoge cada uno. El primero únicamente selecciona la segunda fila de cada fichero excel. Este contenido, de cada fichero, es el que se escribirá en la base de datos unificada.\n",
    "\n",
    "En las siguientes celdas se usan los módulos `xlrd` y la clase `Workbook` de la clase `openpyxl`:\n",
    "* Sobre el [módulo xlrd](https://xlrd.readthedocs.io/en/latest/api.html#xlrd-sheet)\n",
    "* Sobre la [clase `Workbook` del paquete `openpyxl`](https://openpyxl.readthedocs.io/en/stable/api/openpyxl.workbook.workbook.html)."
   ]
  },
  {
   "cell_type": "code",
   "execution_count": null,
   "metadata": {},
   "outputs": [],
   "source": [
    "content = []\n",
    "\n",
    "for file in files:\n",
    "    wb = xlrd.open_workbook(file) \n",
    "    sheet = wb.sheet_by_index(0)\n",
    "    \n",
    "    # Seleccionamos la segunda fila, puesto que la primera son los nombres de las variables\n",
    "    content += [sheet.row_values(1)]\n",
    "    \n",
    "print(content)"
   ]
  },
  {
   "cell_type": "markdown",
   "metadata": {},
   "source": [
    "El siguiente fragmento es un ejemplo en el que únicamente se selecciona la celda situada en la columna 0 y la fila 0 de cada fichero excel."
   ]
  },
  {
   "cell_type": "code",
   "execution_count": 4,
   "metadata": {},
   "outputs": [
    {
     "name": "stdout",
     "output_type": "stream",
     "text": [
      "[['var_1'], ['var_1'], ['var_1']]\n"
     ]
    }
   ],
   "source": [
    "content = []\n",
    "\n",
    "for file in files:\n",
    "    wb = xlrd.open_workbook(file) \n",
    "    sheet = wb.sheet_by_index(0)\n",
    "    \n",
    "    # Seleccionamos la celda situada en la columna 0 y la fila 0\n",
    "    content.append([sheet.cell_value(0, 0)])\n",
    "    \n",
    "print(content)"
   ]
  },
  {
   "cell_type": "markdown",
   "metadata": {},
   "source": [
    "El siguiente fragmento es un ejemplo en el que únicamente se selecciona la segunda columna, excluyendo la primera fila para no incluir el nombre de la variable."
   ]
  },
  {
   "cell_type": "code",
   "execution_count": null,
   "metadata": {},
   "outputs": [],
   "source": [
    "content = []\n",
    "\n",
    "for file in files:\n",
    "    wb = xlrd.open_workbook(file) \n",
    "    sheet = wb.sheet_by_index(0)\n",
    "    \n",
    "    # Seleccionamos la segunda columna sin el primer valor, puesto que es el nombre de la columna\n",
    "    content += [[value] for value in sheet.col_values(1)[1:]]\n",
    "\n",
    "print(content)"
   ]
  },
  {
   "cell_type": "markdown",
   "metadata": {},
   "source": [
    "Una vez hemos seleccionado el contenido que queremos extraer de cada fichero, lo unificamos con el siguiente código y lo guardamos con el nombre `'output.xlsx'`."
   ]
  },
  {
   "cell_type": "code",
   "execution_count": null,
   "metadata": {},
   "outputs": [],
   "source": [
    "wb = Workbook()\n",
    "ws = wb.active\n",
    "\n",
    "for line in content:\n",
    "    ws.append(line)\n",
    "    \n",
    "wb.save('output.xlsx')\n",
    "\n",
    "if 'output.xlsx' in listdir():\n",
    "    print('La nueva base de datos se ha creado correctamente.')"
   ]
  }
 ],
 "metadata": {
  "kernelspec": {
   "display_name": "Python 3",
   "language": "python",
   "name": "python3"
  },
  "language_info": {
   "codemirror_mode": {
    "name": "ipython",
    "version": 3
   },
   "file_extension": ".py",
   "mimetype": "text/x-python",
   "name": "python",
   "nbconvert_exporter": "python",
   "pygments_lexer": "ipython3",
   "version": "3.7.4"
  }
 },
 "nbformat": 4,
 "nbformat_minor": 4
}
