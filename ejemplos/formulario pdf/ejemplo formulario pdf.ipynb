{
 "cells": [
  {
   "cell_type": "markdown",
   "metadata": {},
   "source": [
    "## Ejemplo práctico: leer un formulario de un fichero pdf y pasar la información a uno excel"
   ]
  },
  {
   "cell_type": "markdown",
   "metadata": {},
   "source": [
    "Este ejemplo toma como referencia un hipotético formulario destinado a que un docente recopile información sobre la composición de grupos de trabajo en una clase amplia. Elaborar una base de datos con esta información manualmente puede ser una tarea que ocupe gran cantidad de tiempo si hay un número elevado de estudiantes. Es por ello que se ha decidido repartir un formulario en formato word a los alumnos que deberán entregar al docente en formato pdf. A lo largo de este documento se explica un script sencillo que permite extraer los datos esenciales del formulario y añadirlos a una base de datos en excel."
   ]
  },
  {
   "cell_type": "markdown",
   "metadata": {},
   "source": [
    "Las dos siguientes celdas deben ser ejecutadas si los paquetes `tabula` y `openpyxl` no están instalados. En caso contrario se omiten."
   ]
  },
  {
   "cell_type": "code",
   "execution_count": null,
   "metadata": {},
   "outputs": [],
   "source": [
    "pip install tabula"
   ]
  },
  {
   "cell_type": "code",
   "execution_count": null,
   "metadata": {},
   "outputs": [],
   "source": [
    "pip install openpyxl"
   ]
  },
  {
   "cell_type": "markdown",
   "metadata": {},
   "source": [
    "Primero se importa la función `read_pdf` del paquete `tabula`, que nos permite extraer tablas directamente de un pdf. Adicionalmente se definen dos funciones que nos servirán posteriormente. Con `get_topic` podemos extraer el tema del trabajo que tendrá el grupo. Esta función nos ayuda a procesar adecuadamente el tema del trabajo cuando éste ocupa más de una línea en el formulario. Por otro lado, `slice_it` agrupa la información de cada alumno."
   ]
  },
  {
   "cell_type": "code",
   "execution_count": null,
   "metadata": {},
   "outputs": [],
   "source": [
    "from tabula import read_pdf\n",
    "from os import listdir\n",
    "from openpyxl import Workbook\n",
    "\n",
    "def get_topic(df):\n",
    "    \"\"\"\n",
    "    returns the topic of the work\n",
    "    \"\"\"\n",
    "    topic_indexes = [i for i, null in enumerate(df[0].isnull()) if null]\n",
    "    topic = ' '.join(df[0].iat[i, 1] for i in topic_indexes)\n",
    "    topic = '{} {}'.format(df[0].columns[1], topic)\n",
    "    \n",
    "    return (topic, topic_indexes)\n",
    "\n",
    "def slice_it(data, s):\n",
    "    \"\"\"\n",
    "    returns a list of size s tuples using elements from data\n",
    "    \"\"\"\n",
    "    new_data = []\n",
    "    rest = len(data)\n",
    "    \n",
    "    i = 0\n",
    "    while rest > 0:\n",
    "        new_data.append(list(data[i:i + s]))\n",
    "        i += s\n",
    "        rest -= s\n",
    "    \n",
    "    return new_data"
   ]
  },
  {
   "cell_type": "markdown",
   "metadata": {},
   "source": [
    "La siguiente función extrae la tabla del fichero pdf especificado. Devuelve una lista que contiene uno o más `DataFrames`, así que de aquí en adelante se debe trabajar con la sintaxis y los métodos de estos objetos. El fichero debe estar en la misma ubicación que este notebook o, en caso contrario, será necesario modificar `'form.pdf'` con la ruta correcta. A partir de este punto, el procedimiento se basa en depurar esta tabla, ya que tiene muchos caracteres que no queremos, y extraer la información de interés.\n",
    "\n",
    "En el siguiente fragmento de código se utiliza un objeto `DataFrame`:\n",
    "* Sobre los [`DataFrames` y el paquete `pandas`](https://pandas.pydata.org/pandas-docs/stable/reference/frame.html)"
   ]
  },
  {
   "cell_type": "code",
   "execution_count": null,
   "metadata": {},
   "outputs": [],
   "source": [
    "df = read_pdf('form1.pdf')"
   ]
  },
  {
   "cell_type": "markdown",
   "metadata": {},
   "source": [
    "En el siguiente fragmento se emplea `get_topic`. No sólo nos proporciona el tema del trabajo, sino también información útil para limpiar algunas líneas innecesarias de la tabla. Esta limpieza se hace con el método `DataFrame.drop()`. Finalmente, se modifican los nombres de las columnas para facilitar el trabajo y se limpian el resto de filas que no contienen información útil.\n",
    "\n",
    "En el siguiente fragmento de código se utiliza el método `DataFrame.drop()`:\n",
    "* Sobre el [método `DataFrame.drop()`](https://pandas.pydata.org/pandas-docs/stable/reference/api/pandas.DataFrame.drop.html#pandas-dataframe-drop)."
   ]
  },
  {
   "cell_type": "code",
   "execution_count": null,
   "metadata": {},
   "outputs": [],
   "source": [
    "topic, indexes = get_topic(df)\n",
    "\n",
    "df = df[0].drop(indexes, axis=0)\n",
    "df.columns = ['A', 'B']\n",
    "df = df[df['A'] != 'Estudiante']"
   ]
  },
  {
   "cell_type": "markdown",
   "metadata": {},
   "source": [
    "El siguiente bucle organiza toda la información útil de cada estudiante en un diccionario."
   ]
  },
  {
   "cell_type": "code",
   "execution_count": null,
   "metadata": {},
   "outputs": [],
   "source": [
    "students = {'Grupo 1':[]}\n",
    "keys = ('Nombre', 'Apellidos', 'Correo')\n",
    "\n",
    "for student in slice_it(df['B'], 3):\n",
    "    students['Grupo 1'].append(student)"
   ]
  },
  {
   "cell_type": "markdown",
   "metadata": {},
   "source": [
    "¡Veamos el resultado!"
   ]
  },
  {
   "cell_type": "code",
   "execution_count": null,
   "metadata": {},
   "outputs": [],
   "source": [
    "print(students)"
   ]
  },
  {
   "cell_type": "markdown",
   "metadata": {},
   "source": [
    "Este script sólo recopila los datos de un formulario para ilustrar el proceso de extracción, depuración y selección de información de un fichero pdf. Para ser usado con más ficheros es necesario realizar las siguientes modificaciones. En primer lugar, se identifican las rutas de todos los ficheros pdf que haya en la misma carpeta del Notebook. El método `listdir()` nos aporta una lista completa de los ficheros y únicamente tenemos que comprobar que su nombre termine en `.pdf`. Además, se inicializa `students` de nuevo para evitar errores.\n",
    "\n",
    "En el siguiente fragmento de código se utilizan el método listdir() y las comprehensiones de lista:\n",
    "* Sobre el [método `listdir` y el paquete `os`](https://docs.python.org/3.8/library/os.html?highlight=os#os.listdir)\n",
    "* Sobre las [comprehensiones de lista](https://docs.python.org/3/tutorial/datastructures.html#list-comprehensions)."
   ]
  },
  {
   "cell_type": "code",
   "execution_count": null,
   "metadata": {},
   "outputs": [],
   "source": [
    "forms = [file for file in listdir() if file[-4:] == '.pdf']\n",
    "students = {}"
   ]
  },
  {
   "cell_type": "markdown",
   "metadata": {},
   "source": [
    "El siguiente fragmento de código es casi una réplica del código que hemos visto antes, pero esta vez se ejecuta una vez por cada fichero pdf que hayamos identificado. Ahora también asignamos el número de grupo a cada estudiante de cada grupo, puesto que es información que necesitamos para nuestra base de datos.\n",
    "\n",
    "En el siguiente fragmento se utiliza la función enumerate():\n",
    "* Sobre la [función `enumerate()`]()."
   ]
  },
  {
   "cell_type": "code",
   "execution_count": null,
   "metadata": {},
   "outputs": [],
   "source": [
    "for i, file in enumerate(forms):\n",
    "    df = read_pdf(file)\n",
    "    group = 'Grupo {}' + str(i + 1)\n",
    "    \n",
    "    # A partir de aquí el código es prácticamente igual.\n",
    "    topic, indexes = get_topic(df)\n",
    "\n",
    "    df = df[0].drop(indexes, axis=0)\n",
    "    df.columns = ['A', 'B']\n",
    "    df = df[df['A'] != 'Estudiante']\n",
    "\n",
    "    students[group] = []\n",
    "\n",
    "    for student in slice_it(df['B'], 3):\n",
    "        student.append(i + 1)\n",
    "        students[group].append(student)\n",
    "\n",
    "print(students)"
   ]
  },
  {
   "cell_type": "markdown",
   "metadata": {},
   "source": [
    "A continuación se inicializa `Workbook`, que es la clase que nos sirve para crear un nuevo fichero excel, y se añade la cabecera de la base de datos con el método `Worksheet.append()`. Por último, mediante un bucle anidado `for` se añaden todos los alumnos de cada grupo a la base de datos. El método `Worksheet.save()` nos sirve para guardar nuestra base de datos.\n",
    "\n",
    "En el siguiente fragmento se utiliza la clase Workbook del paquete openpyxl y se emplea un bucle anidado:\n",
    "* Sobre la [clase `Workbook` del paquete `openpyxl`](https://openpyxl.readthedocs.io/en/stable/api/openpyxl.workbook.workbook.html).\n",
    "* Sobre los [bucles anidados](https://www.w3schools.com/python/gloss_python_for_nested.asp). No se aconseja su uso debido a que añaden complejidad al código, pero a veces no queda otro remedio que usarlos."
   ]
  },
  {
   "cell_type": "code",
   "execution_count": null,
   "metadata": {},
   "outputs": [],
   "source": [
    "wb = Workbook()\n",
    "ws = wb.active\n",
    "\n",
    "headers = ['nombre', 'apellidos', 'email', 'grupo']\n",
    "ws.append(headers)\n",
    "\n",
    "for group in students.values():\n",
    "    for student in group:\n",
    "        ws.append(student)\n",
    "\n",
    "wb.save('alumnos.xlsx')\n",
    "\n",
    "if 'alumnos.xlsx' in listdir():\n",
    "    print('El fichero excel se ha guardado correctamente.')"
   ]
  },
  {
   "cell_type": "markdown",
   "metadata": {},
   "source": [
    "Ahora podemos abrir el fichero `'alumnos.xlsx'` para comprobar que la información se ha trasladado correctamente a nuestra nueva base de datos."
   ]
  }
 ],
 "metadata": {
  "kernelspec": {
   "display_name": "Python 3",
   "language": "python",
   "name": "python3"
  },
  "language_info": {
   "codemirror_mode": {
    "name": "ipython",
    "version": 3
   },
   "file_extension": ".py",
   "mimetype": "text/x-python",
   "name": "python",
   "nbconvert_exporter": "python",
   "pygments_lexer": "ipython3",
   "version": "3.7.4"
  }
 },
 "nbformat": 4,
 "nbformat_minor": 4
}
