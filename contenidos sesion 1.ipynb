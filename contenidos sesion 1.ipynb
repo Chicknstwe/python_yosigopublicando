{
 "cells": [
  {
   "cell_type": "markdown",
   "metadata": {},
   "source": [
    "# Tipos de variables"
   ]
  },
  {
   "cell_type": "markdown",
   "metadata": {},
   "source": [
    "Cuando se programa es fundamental poder guardar información. Se puede hacer en forma de variable individual o como una estructura de datos que agrupe variables u otras estructuras. Vamos a comenzar con los tipos de variables más comunes. Existen más tipos de variables, pero con estos podemos resolver la mayoría de nuestras necesidades. Para definir una nueva variable se utiliza el operador de asignación `=`. Podemos acceder al valor que se ha asignado a una variable en cualquier momento usando su nombre. Para el nombre no se pueden utilizar ciertas palabras reservadas, como `int`, o `True`."
   ]
  },
  {
   "cell_type": "code",
   "execution_count": null,
   "metadata": {},
   "outputs": [],
   "source": [
    "n_int = 12\n",
    "n_float = 13.1\n",
    "v_str = 'Hola mundo'\n",
    "v_bool = True"
   ]
  },
  {
   "cell_type": "markdown",
   "metadata": {},
   "source": [
    "Es posible realizar una asignación múltiple en una única línea siguiendo la siguiente sintaxis. De esta forma se pueden intercambiar los valores de dos variables de forma sencilla. En este ejemplo vamos a emplear la función `print()` para escribir en el documento el valor de la variable `a`. Esta función ofrece muchas opciones, pero por ahora vamos a utilizarla de forma simple. Las funciones son objetos *invocables* (`callable`), por lo que, a diferencia de otros objetos, terminan con paréntesis`()`. Si la función tiene algún argumento, éste se escribe dentro de los paréntesis. Si son varios, se dividen por comas."
   ]
  },
  {
   "cell_type": "code",
   "execution_count": null,
   "metadata": {},
   "outputs": [],
   "source": [
    "a, b = 5, 7\n",
    "print(a)\n",
    "\n",
    "a, b = b, a\n",
    "print(a)"
   ]
  },
  {
   "cell_type": "markdown",
   "metadata": {},
   "source": [
    "El tipo de cada variable es evidente a plena vista. No obstante, podemos usar la función `type()` para inspeccionar cualquier objeto y ver a qué clase pertenece. "
   ]
  },
  {
   "cell_type": "code",
   "execution_count": null,
   "metadata": {},
   "outputs": [],
   "source": [
    "print(type(n_int))\n",
    "print(n_int)\n",
    "print(v_str)"
   ]
  },
  {
   "cell_type": "markdown",
   "metadata": {},
   "source": [
    "Cuando ejecutamos un código cualquiera las lineas se procesan de forma ordenada. Esto tiene importantes implicaciones relativas a la visibilidad de las variables, funciones y otros elementos. No podemos usar un objeto que aún no hemos definido."
   ]
  },
  {
   "cell_type": "code",
   "execution_count": null,
   "metadata": {},
   "outputs": [],
   "source": [
    "print(nueva_variable) # NameError\n",
    "nueva_variable = 'abcde'"
   ]
  },
  {
   "cell_type": "markdown",
   "metadata": {},
   "source": [
    "En el anterior fragmento de código se puede apreciar una parte que no se ha ejecutado tras la almohadilla (`#`). Se trata de un comentario. Los comentarios se utilizan para hacer constar a lo largo del código información pertinente. El contenido de estas líneas no se ejecuta. Son útiles para hacer que códigos complejos se vuelvan más comprensibles o para dejar recordatorios sobre cuestiones importantes. En Python existen dos tipos de comentarios. \n",
    "* Si usamos la almohadilla (`#`) creamos un comentario de una única línea. \n",
    "* Si usamos tres veces las dobles comillas (`\"\"\"`) abrimos y cerramos un comentario multilínea. No se ejecutará ninguna línea que se encuentre entre las comillas."
   ]
  },
  {
   "cell_type": "code",
   "execution_count": null,
   "metadata": {},
   "outputs": [],
   "source": [
    "# print('Esta línea no se ejecutará')\n",
    "\n",
    "\"\"\"\n",
    "print('Esta línea no se ejecutará')\n",
    "\n",
    "print('Esta tampoco.')\n",
    "\"\"\"\n",
    "print('Pero esta sí.')"
   ]
  },
  {
   "cell_type": "markdown",
   "metadata": {},
   "source": [
    "# In / Out"
   ]
  },
  {
   "cell_type": "markdown",
   "metadata": {},
   "source": [
    "Ya hemos visto algunos ejemplos de la función `print()`, que es una forma de generar salidas para nuestro código. También hay muchas vías para hacer que nuestro código recoja información: desde pedirle información al usuario hasta conectarse a un sitio web para descargar un archivo. Para hacer que nuestro código le pida algo al usuario se usa la función `input()`. Es posible incluir una frase como argumento de esta función, en forma de variable string, para indicar al usuario que debe introducir algún tipo de información concreta. Dicha función siempre devuelve una variable string con aquello que haya introducido el usuario."
   ]
  },
  {
   "cell_type": "code",
   "execution_count": null,
   "metadata": {},
   "outputs": [],
   "source": [
    "a = input('Introduzca una palabra: ')\n",
    "\n",
    "print(a)\n",
    "print(type(a))"
   ]
  },
  {
   "cell_type": "markdown",
   "metadata": {},
   "source": [
    "Si la información introducida por el usuario es numérica y se prevé que se va a usar como tal en el código, es necesario transformarla haciendo uso de la función `int()` si se trata de un número entero o de la función `float()` si se trata de un número con decimales."
   ]
  },
  {
   "cell_type": "code",
   "execution_count": null,
   "metadata": {},
   "outputs": [],
   "source": [
    "a = input('Introduzca un valor: ')\n",
    "\n",
    "print(type(a))\n",
    "\n",
    "a = int(a)\n",
    "\n",
    "print(type(a))"
   ]
  },
  {
   "cell_type": "markdown",
   "metadata": {},
   "source": [
    "# Estructuras de datos"
   ]
  },
  {
   "cell_type": "markdown",
   "metadata": {},
   "source": [
    "Las estructuras de datos nos permiten agrupar variables u otras estructuras de datos para trabajar con ellas sistemáticamente. Hay varias maneras de definir cada estructura, pero por ahora se usará la siguiente:\n",
    "\n",
    "* Para definir una lista se usan los corchetes (`[`para abrir y `]` para cerrar).\n",
    "* Para definir una tupla se usan los paréntesis (`(`para abrir y `)` para cerrar).\n",
    "* Para definir un set se usan las llaves (`{`para abrir y `}` para cerrar).\n",
    "* Para definir un diccionario se usan las llaves (`{`para abrir y `}` para cerrar) y pares de elementos (ejemplo: `{'key': 'value'}`).\n",
    "\n",
    "Las listas, tuplas y sets son colecciones de objetos singulares (ya sean variables u otras estructuras), mientras que los diccionarios agrupan los datos en pares `{key: value}`. En todas estas estructuras los elementos están separados por comas.\n",
    "\n",
    "¿Qué diferencias existen entre listas, tuplas y sets?\n",
    "\n",
    "\n",
    "| Tipo  | ¿Mutable? | ¿Valores únicos? |\n",
    "|-------|:---------:|:----------------:|\n",
    "| tuple |     No    |        No        |\n",
    "| list  |     Sí    |        No        |\n",
    "| set   |     Sí    |        Sí        |\n",
    "\n",
    "\n",
    "Un objeto es mutable cuando es posible cambiar su valor sin cambiar su `id()`. Los sets no contienen valores repetidos."
   ]
  },
  {
   "cell_type": "code",
   "execution_count": 1,
   "metadata": {},
   "outputs": [
    {
     "name": "stdout",
     "output_type": "stream",
     "text": [
      "[0, 1, 2.2, 3, 'a', True]\n",
      "[[0, 1, 2], [1, 2, 1], [2, 1, 0]]\n"
     ]
    }
   ],
   "source": [
    "a_list = [0, 1, 2.2, 3, 'a', True]\n",
    "matrix = [\n",
    "    [0, 1, 2],\n",
    "    [1, 2, 1],\n",
    "    [2, 1, 0]\n",
    "]\n",
    "\n",
    "print(a_list)\n",
    "print(matrix)"
   ]
  },
  {
   "cell_type": "code",
   "execution_count": 2,
   "metadata": {},
   "outputs": [
    {
     "name": "stdout",
     "output_type": "stream",
     "text": [
      "{'c', 'd', 'b', 'a', 'r'}\n"
     ]
    }
   ],
   "source": [
    "a_set = {'a', 'b', 'r', 'a', 'c', 'a', 'd', 'a', 'b', 'r', 'a'}\n",
    "print(a_set)"
   ]
  },
  {
   "cell_type": "markdown",
   "metadata": {},
   "source": [
    "# Sintaxis básica para trabajar con listas"
   ]
  },
  {
   "cell_type": "markdown",
   "metadata": {},
   "source": [
    "Podemos acceder a elementos concretos o secciones de las listas haciendo uso de los índices de dichos objetos. El primer elemento tiene el índice `0`. Esta sintaxis también la siguen los tuples, los sets y las variables string, entre otros objetos."
   ]
  },
  {
   "cell_type": "code",
   "execution_count": 8,
   "metadata": {},
   "outputs": [
    {
     "name": "stdout",
     "output_type": "stream",
     "text": [
      "4\n",
      "2.2\n",
      "[1, 2.2, 3]\n"
     ]
    }
   ],
   "source": [
    "a_list = [4, 1, 2.2, 3, 'a', True]\n",
    "\n",
    "print(a_list[0])\n",
    "print(a_list[2])\n",
    "print(a_list[1:4])"
   ]
  },
  {
   "cell_type": "code",
   "execution_count": null,
   "metadata": {},
   "outputs": [],
   "source": [
    "matrix = [\n",
    "    [0, 1, 2],\n",
    "    [1, 2, 1],\n",
    "    [2, 1, 0]\n",
    "]\n",
    "\n",
    "print(matrix[1][1])"
   ]
  },
  {
   "cell_type": "markdown",
   "metadata": {},
   "source": [
    "Hasta ahora hemos visto que existen funciones que podemos utilizar con las variables como argumento (ejemplo: `print(mi_variable)`). Los métodos son muy similares a las funciones, pero dependen de una determinada clase y siguen una sintaxis diferente a la de éstas. También son objetos *invocables* (`callable`), por lo que usan paréntesis. La clase `list` cuenta con el método append(), que permite añadir elementos a la lista y se usa de la siguiente manera: `list.append(nuevo_elemento)`. Veamos un ejemplo."
   ]
  },
  {
   "cell_type": "code",
   "execution_count": 9,
   "metadata": {},
   "outputs": [
    {
     "name": "stdout",
     "output_type": "stream",
     "text": [
      "[4, 1, 2.2, 3, 'a', True]\n",
      "[4, 1, 2.2, 3, 'a', True, 70]\n"
     ]
    }
   ],
   "source": [
    "print(a_list)\n",
    "a_list.append(70)\n",
    "print(a_list)"
   ]
  },
  {
   "cell_type": "markdown",
   "metadata": {},
   "source": [
    "# Sintaxis básica para trabajar con diccionarios"
   ]
  },
  {
   "cell_type": "markdown",
   "metadata": {},
   "source": [
    "Los diccionarios son herramientas muy útiles, pero trabajar con ellos a veces es más complejo que trabajar con listas. Su contenido se estructura en pares `{key: value}`. Se puede acceder a un `value` determinado usando su `key` asociada. Veamos un ejemplo de la sintaxis:"
   ]
  },
  {
   "cell_type": "code",
   "execution_count": null,
   "metadata": {},
   "outputs": [],
   "source": [
    "my_dict = {'a':0, 'b':1, 'c':2, 'd':3, 'e':4}\n",
    "print(my_dict['b'])"
   ]
  },
  {
   "cell_type": "markdown",
   "metadata": {},
   "source": [
    "Para acceder a una secuencia de las *keys* de un diccionario se usa el método `dict.keys()`, y para acceder a una secuencia de los *values*, se usa el método `dict.values()`. También se puede obtener una secuencia de tuples de la forma `(key, value)` con el método dict.items(). Lo que obtenemos no son estructuras de ninguno de los tipos que hemos hablado hasta ahora sino que son, respectivamente, objetos dict_keys, dict_values y dict_items. Más adelante aprenderemos a trabajar con ellos."
   ]
  },
  {
   "cell_type": "code",
   "execution_count": null,
   "metadata": {},
   "outputs": [],
   "source": [
    "print(my_dict.keys())\n",
    "print(my_dict.values())\n",
    "print(my_dict.items())\n",
    "print(type(my_dict.keys()))"
   ]
  },
  {
   "cell_type": "markdown",
   "metadata": {},
   "source": [
    "# Operadores aritméticos"
   ]
  },
  {
   "cell_type": "markdown",
   "metadata": {},
   "source": [
    "Para trabajar con las variables o las estructuras de datos se emplean los siguientes operadores aritméticos.\n",
    "\n",
    "\n",
    "| Operador | Nombre          |Ejemplo                                                                                   |\n",
    "|:--------:|:-----------------|:------------------------------------------------------------------------------------------|\n",
    "|     +    | Suma            |2 + 2                                                                                     |\n",
    "|     -    | Resta           |3 - 2                                                                                     |\n",
    "|     -    | Negación        |a = -2                                                                                    |\n",
    "|     *    | Producto        |3 * 4                                                                                     |\n",
    "|    **    | Potencia        |2**3                                                                                      |\n",
    "|     /    | Cociente        |5 / 2 # El resultado es tipo `float`                                                      |\n",
    "|    //    | Cociente entero |4.5 // 2 # Si la división es exacta y ambos   valores son `int`, el resultado será `int`  |\n",
    "|     %    | Módulo          |6 % 2                                                                                     |\n"
   ]
  },
  {
   "cell_type": "code",
   "execution_count": 10,
   "metadata": {},
   "outputs": [
    {
     "name": "stdout",
     "output_type": "stream",
     "text": [
      "-6\n"
     ]
    }
   ],
   "source": [
    "num = 3 + 5\n",
    "num = num - 2\n",
    "num = -num\n",
    "\n",
    "print(num)"
   ]
  },
  {
   "cell_type": "code",
   "execution_count": null,
   "metadata": {},
   "outputs": [],
   "source": [
    "num = 5 * 5\n",
    "num = 5 ** 2\n",
    "num_a = num / 5\n",
    "num_b = num // 5\n",
    "\n",
    "print(type(num_a))\n",
    "print(type(num_b))\n",
    "print(num % 2)"
   ]
  },
  {
   "cell_type": "markdown",
   "metadata": {},
   "source": [
    "Algunos de los operadores también pueden trabajar con otros tipos de variables, como con los objetos de la clase `string`."
   ]
  },
  {
   "cell_type": "code",
   "execution_count": null,
   "metadata": {},
   "outputs": [],
   "source": [
    "str_a = 'Hola'\n",
    "str_b = 'amigo'\n",
    "str_c = str_a + ' ' + str_b\n",
    "\n",
    "print(str_c)\n",
    "print(str_a * 3)"
   ]
  },
  {
   "cell_type": "markdown",
   "metadata": {},
   "source": [
    "Por último, es posible combinar cualquier operador aritmético con el operador de asignación (`=`) para simplificar nuestro código."
   ]
  },
  {
   "cell_type": "code",
   "execution_count": null,
   "metadata": {},
   "outputs": [],
   "source": [
    "num = 1\n",
    "num += 1\n",
    "\n",
    "num -= 1\n",
    "num *= 5\n",
    "num **= 2\n",
    "\n",
    "print(num)"
   ]
  },
  {
   "cell_type": "code",
   "execution_count": null,
   "metadata": {},
   "outputs": [],
   "source": [
    "num_a = num_b = num # Esta es otra forma de hacer una asignación múltiple. \n",
    "num_a /= 5\n",
    "num_b //= 5\n",
    "\n",
    "print(num_a)\n",
    "print(num_b)"
   ]
  },
  {
   "cell_type": "code",
   "execution_count": null,
   "metadata": {},
   "outputs": [],
   "source": [
    "num %= 2\n",
    "print(num)"
   ]
  },
  {
   "cell_type": "markdown",
   "metadata": {},
   "source": [
    "# Operadores relacionales y lógicos"
   ]
  },
  {
   "cell_type": "markdown",
   "metadata": {},
   "source": [
    "Los operadores relacionales permiten comparar elementos del mismo tipo. Las expresiones con operadores relacionales siempre devuelven `True` o `False`.\n",
    "\n",
    "| Operador | Descripción       | Ejemplo | Resultado |\n",
    "|:--------:|:-------------------|:---------|:-----------|\n",
    "|    ==    | Igual que         | 4 == 5  | False     |\n",
    "|    !=    | Diferente de      | 4 != 5  | True      |\n",
    "|     >    | Mayor que         | 5 > 5   | False     |\n",
    "|     <    | Menor que         | 5 < 5   | False     |\n",
    "|    >=    | Mayor o igual que | 5 >= 5  | True      |\n",
    "|    <=    | Menor o igual que | 5 <= 5  | True      |\n",
    "\n",
    "Se puede comparar cualquier par de elementos, pero si no son del mismo tipo probablemente se obtenga un error."
   ]
  },
  {
   "cell_type": "code",
   "execution_count": 11,
   "metadata": {},
   "outputs": [
    {
     "name": "stdout",
     "output_type": "stream",
     "text": [
      "True\n",
      "False\n",
      "False\n",
      "True\n"
     ]
    }
   ],
   "source": [
    "a = 5\n",
    "b = 5.0\n",
    "c = '5'\n",
    "d = '5.0'\n",
    "\n",
    "print(a == b)\n",
    "print(a == c)\n",
    "print(c == d)\n",
    "print(type(c) == type(d))"
   ]
  },
  {
   "cell_type": "markdown",
   "metadata": {},
   "source": [
    "Los operadores lógicos se combinan con los operadores relacionales a menudo para encadenar expresiones o simplificar el control de flujo condicional, como veremos próximamente.\n",
    "\n",
    "| Operador | Descripción            | Ejemplo         | Resultado |   |\n",
    "|:--------:|:------------------------|:-----------------|:-----------|---|\n",
    "|    and   | ¿Son verdaderas a y b? | 5 > 4 and 4 > 5 | False     |   |\n",
    "|    or    | ¿Son verdaderas a o b? | 5 > 4 or 4 > 5  | True      |   |\n",
    "|    not   | ¿Es falso a?           | not 4 > 5       | True      |   |\n"
   ]
  },
  {
   "cell_type": "code",
   "execution_count": null,
   "metadata": {},
   "outputs": [],
   "source": [
    "a = 5\n",
    "b = 5.0\n",
    "c = '5'\n",
    "d = '5.0'\n",
    "\n",
    "print(a == b and type(a) == type(b))\n",
    "print(a == b or type(a) == type(b))\n",
    "print((type(c) == type(d) or c == d) and a == b)"
   ]
  },
  {
   "cell_type": "markdown",
   "metadata": {},
   "source": [
    "# Control de flujo"
   ]
  },
  {
   "cell_type": "markdown",
   "metadata": {},
   "source": [
    "El control de flujo permite dar instrucciones al código para que únicamente ejecute alguna línea bajo determinadas condiciones (control de flujo condicional) o para que ciertas operaciones se repitan un número determinado de veces (control de flujo iterativo). En el primer caso se usan los *statements* `if`, `elif` y `else` y en el segundo se emplean `for` y `while` para crear bucles. Para crear las condiciones con las que funcionan estos *statements* se emplean los operadores relacionales y lógicos que se han examinado anteriormente. Veamos algunos ejemplos concretos."
   ]
  },
  {
   "cell_type": "code",
   "execution_count": 12,
   "metadata": {},
   "outputs": [
    {
     "name": "stdout",
     "output_type": "stream",
     "text": [
      "a es igual a b\n"
     ]
    }
   ],
   "source": [
    "a = 5\n",
    "b = 5.0\n",
    "c = '5'\n",
    "d = '5.0'\n",
    "\n",
    "# Esta línea únicamente se ejecutará si la condición es True\n",
    "if a == b:\n",
    "    print('a es igual a b')"
   ]
  },
  {
   "cell_type": "markdown",
   "metadata": {},
   "source": [
    "En el anterior fragmento se puede apreciar que la función `print()` tiene una indentación superior a la del resto del código. Esta es la forma que tiene el intérprete de Python para identificar que dicha función está dentro del bloque de código que encabeza el *statement* `if`. Este bloque de código, es decir, todo lo que se encuentre a este nivel de indentación debajo de `if`, sólo se ejecutará si la condición es `True`. Además, es importante señalar que para cerrar la estructura condicional hay que usar `:`, tal y como consta en el código. A continuación se puede ver un ejemplo algo más complejo de indentación."
   ]
  },
  {
   "cell_type": "code",
   "execution_count": 13,
   "metadata": {},
   "outputs": [
    {
     "name": "stdout",
     "output_type": "stream",
     "text": [
      "Nivel 0\n",
      "Nivel 1\n",
      "Nivel 2\n"
     ]
    }
   ],
   "source": [
    "a = 5\n",
    "b = 5.0\n",
    "c = '5'\n",
    "d = '5.0'\n",
    "\n",
    "print('Nivel 0')\n",
    "\n",
    "if a == b:\n",
    "    # Todo el código desde aquí está dentro del primer if\n",
    "    print('Nivel 1')\n",
    "    if type(a) == type(b): # Esta condición no llegará a comprobarse si a == b es False\n",
    "        print('Nivel 2')\n",
    "        if type(c) == type(d):\n",
    "            print('Nivel 3')\n",
    "    \n",
    "    if not c == b:\n",
    "        print('Nivel 2')\n",
    "    # Todo el código hasta aquí está dentro del primer if y únicamente se ejecutará si a == b es True\n",
    "\n",
    "if b == d: # Esta comprobación se ejecutará independientemente del resultado del primer if\n",
    "    print('Nivel 1')\n",
    "        "
   ]
  },
  {
   "cell_type": "markdown",
   "metadata": {},
   "source": [
    "Normalmente son varias las posibilidades que tenemos en mente cuando se usa el control de flujo condicional. Tras usar `if` se puede emplear `elif` que añade una nueva posibilidad, con sus propias condiciones, para el caso en que la condición del `if` fuera `False`. En caso de que quiera englobar cualquier posibilidad que no cumpla la condición del `if`, se puede emplear `else`. No debe olvidarse que es necesario cerrar estas líneas con `:`."
   ]
  },
  {
   "cell_type": "code",
   "execution_count": null,
   "metadata": {},
   "outputs": [],
   "source": [
    "a = 5\n",
    "b = 5\n",
    "c = '5'\n",
    "d = '5.0'\n",
    "\n",
    "if type(a) == type(b):\n",
    "    if a > b:\n",
    "        print('a es mayor que b')\n",
    "    elif a < b: # Es posible encadenar cualquier cantidad de statements elif\n",
    "        print('a es menor que b')\n",
    "    else:\n",
    "        print('a es igual a b')\n",
    "else:\n",
    "    print('a y b no son del mismo tipo')"
   ]
  },
  {
   "cell_type": "markdown",
   "metadata": {},
   "source": [
    "Los bucles `for` y `while` nos permiten *iterar* por cualquier objeto iterable. Las listas, las tuplas, los sets, las variables string y las secuencias obtenidas mediante los métodos `dict.keys()`, `dict.values()` y `dict.items()` son objetos iterables, pero no son los únicos. El bucle `for` itera sobre un objeto y realiza operaciones sobre cada elemento con la siguiente sintaxis:"
   ]
  },
  {
   "cell_type": "code",
   "execution_count": 14,
   "metadata": {},
   "outputs": [
    {
     "name": "stdout",
     "output_type": "stream",
     "text": [
      "El elemento \"a\" no es una variable numérica.\n",
      "El elemento \"True\" no es una variable numérica.\n"
     ]
    }
   ],
   "source": [
    "a_list = [0, 1, 2.2, 3, 'a', True]\n",
    "\n",
    "for variable in a_list:\n",
    "    if type(variable) != float and type(variable) != int:\n",
    "        # La función str() transforma una variable en string\n",
    "        print('El elemento \"' + str(variable) + '\" no es una variable numérica.')"
   ]
  },
  {
   "cell_type": "markdown",
   "metadata": {},
   "source": [
    "El bucle `while` permite ejecutar el contenido del bloque de código siempre que se cumpla una condición. Hay que usar estos bucles con precaución, ya que se puede crear fácilmente un bucle infinito. En ese caso habrá que interrumpir el código. Para solucionar este problema hay que acudir al menú de arriba y seguir la ruta: Kernel -> Interrupt. Para limpiar el contenido de la celda: Cell -> All Output -> Clear."
   ]
  },
  {
   "cell_type": "code",
   "execution_count": 15,
   "metadata": {},
   "outputs": [
    {
     "name": "stdout",
     "output_type": "stream",
     "text": [
      "0\n",
      "1\n",
      "2.2\n",
      "3\n",
      "a\n",
      "True\n"
     ]
    }
   ],
   "source": [
    "a_list = [0, 1, 2.2, 3, 'a', True]\n",
    "\n",
    "x = 0\n",
    "while x < len(a_list): # La función len() devuelve el tamaño del objeto\n",
    "    print(a_list[x])\n",
    "    x += 1 # Si x no llegara a ser mayor o igual que len(a_list) en algún momento, el bucle sería infinito"
   ]
  },
  {
   "cell_type": "markdown",
   "metadata": {},
   "source": [
    "En ocasiones puede que nos interese parar la ejecución de un bucle cuando se cumple una condición determinada. En ese caso podemos usar `break`. Si lo que queremos es que el bucle siga pero que no se ejecute ninguna linea más de la iteración actual, usaremos `continue`."
   ]
  },
  {
   "cell_type": "code",
   "execution_count": null,
   "metadata": {},
   "outputs": [],
   "source": [
    "a_list = [0, 1, 2.2, 3, 'a', True, 'foo', 'bar']\n",
    "\n",
    "for element in a_list:\n",
    "    if type(element) != float and type(element) != int:\n",
    "        if type(element) != str:\n",
    "            break\n",
    "        print('El elemento \"' + element + '\" no es una variable numérica.') # Sin función str()"
   ]
  },
  {
   "cell_type": "code",
   "execution_count": null,
   "metadata": {},
   "outputs": [],
   "source": [
    "a_list = [0, 1, 2.2, 3, 'a', True, 'foo', 'bar']\n",
    "\n",
    "for element in a_list:\n",
    "    if type(element) != float and type(element) != int:\n",
    "        if type(element) != str:\n",
    "            continue\n",
    "        print('El elemento \"' + element + '\" no es una variable numérica.') # Sin función str()"
   ]
  },
  {
   "cell_type": "markdown",
   "metadata": {},
   "source": [
    "Aunque pueden ser recursos útiles, el uso de `break` y `continue` no está considerado como una buena práctica de programación, ya que dificulta la comprensión del código."
   ]
  },
  {
   "cell_type": "markdown",
   "metadata": {},
   "source": [
    "Se puede ampliar todo el contenido explicado hasta ahora consultando [la documentación de Python 3](https://docs.python.org/3.8/library/stdtypes.html)."
   ]
  },
  {
   "cell_type": "markdown",
   "metadata": {},
   "source": [
    "# Paquetes de Python"
   ]
  },
  {
   "cell_type": "markdown",
   "metadata": {},
   "source": [
    "En ocasiones necesitamos usar recursos que no están en el núcleo de Python. En estos casos hay que importar el paquete donde se encuentran con `import`. Podemos usar los recursos de esta forma:"
   ]
  },
  {
   "cell_type": "code",
   "execution_count": null,
   "metadata": {},
   "outputs": [],
   "source": [
    "\"\"\"\n",
    "Este código comprueba si una determinada string tiene caracteres diferentes \n",
    "a los que podemos encontrar en el abecedario, a excepción de la ñ.\n",
    "\"\"\"\n",
    "import string\n",
    "\n",
    "test = 'Este es 1 ejemplo.'\n",
    "characters = string.ascii_letters # Aquí no se usan los () debido a que no es una función o método, sino una constante\n",
    "\n",
    "for char in test:\n",
    "    if char not in characters and char != ' ':\n",
    "        print('El caracter \"' + char + '\" no es una letra del abecedario.')"
   ]
  },
  {
   "cell_type": "markdown",
   "metadata": {},
   "source": [
    "Si sólo necesitamos un recurso de este módulo, como en el caso anterior, no es eficiente cargar el módulo completo. Para ello podemos usar `from` de la siguiente manera:"
   ]
  },
  {
   "cell_type": "code",
   "execution_count": null,
   "metadata": {},
   "outputs": [],
   "source": [
    "from string import ascii_letters\n",
    "\n",
    "test = 'Este es 1 ejemplo.'\n",
    "characters = ascii_letters # Aquí no se usan los () debido a que no es una función o método, sino una constante\n",
    "\n",
    "for char in test:\n",
    "    if char not in characters and char != ' ':\n",
    "        print('El caracter \"' + char + '\" no es una letra del abecedario.')"
   ]
  },
  {
   "cell_type": "markdown",
   "metadata": {},
   "source": [
    "Además, ocasiones los nombres de los recursos que se importan son poco operativos para trabajar. En estos casos se puede simplificar con palabras clave usando `as`:"
   ]
  },
  {
   "cell_type": "code",
   "execution_count": null,
   "metadata": {},
   "outputs": [],
   "source": [
    "from string import ascii_letters as lt\n",
    "\n",
    "test = 'Este es 1 ejemplo.'\n",
    "\n",
    "for char in test:\n",
    "    if char not in lt and char != ' ': # Ya hemos definido antes lt como ascii_letters, así que podemos usarlo libremente\n",
    "        print('El caracter \"' + char + '\" no es una letra del abecedario.')"
   ]
  },
  {
   "cell_type": "markdown",
   "metadata": {},
   "source": [
    "Sólo se puede importar un paquete si está instalado. En caso contrario saldrá un error. Para instalar paquetes es recomendable usar la herramienta `pip`. Si se instala Anaconda `pip` debería estar ya instalado en nuestro sistema, así que sólo debemos introducir en la terminal de comandos o en la terminal de IPython el comando `pip install nombre_paquete`. Para cualquier duda se puede consultar la [documentación de pip](https://pip.pypa.io/en/stable/user_guide/)."
   ]
  },
  {
   "cell_type": "markdown",
   "metadata": {},
   "source": [
    "# Buenas prácticas de programación, el Zen de Python"
   ]
  },
  {
   "cell_type": "markdown",
   "metadata": {},
   "source": [
    "No cualquier forma de programar está bien considerada. Si trabajamos con lenguajes de programación llegará un momento en que otras personas tendrán que leer nuestro código. Por otro lado, hay formas de programar que hacen más sencillo identificar y corregir errores. Python es un lenguaje diseñado con una filosofía que encaja muy bien con lo que se considera buenas prácticas de consideración y esto se ha consagrado en un *easter egg* que se puede leer importando el paquete `this`."
   ]
  },
  {
   "cell_type": "code",
   "execution_count": 16,
   "metadata": {},
   "outputs": [
    {
     "name": "stdout",
     "output_type": "stream",
     "text": [
      "The Zen of Python, by Tim Peters\n",
      "\n",
      "Beautiful is better than ugly.\n",
      "Explicit is better than implicit.\n",
      "Simple is better than complex.\n",
      "Complex is better than complicated.\n",
      "Flat is better than nested.\n",
      "Sparse is better than dense.\n",
      "Readability counts.\n",
      "Special cases aren't special enough to break the rules.\n",
      "Although practicality beats purity.\n",
      "Errors should never pass silently.\n",
      "Unless explicitly silenced.\n",
      "In the face of ambiguity, refuse the temptation to guess.\n",
      "There should be one-- and preferably only one --obvious way to do it.\n",
      "Although that way may not be obvious at first unless you're Dutch.\n",
      "Now is better than never.\n",
      "Although never is often better than *right* now.\n",
      "If the implementation is hard to explain, it's a bad idea.\n",
      "If the implementation is easy to explain, it may be a good idea.\n",
      "Namespaces are one honking great idea -- let's do more of those!\n"
     ]
    }
   ],
   "source": [
    "import this"
   ]
  },
  {
   "cell_type": "markdown",
   "metadata": {},
   "source": [
    "Muchos de los fragmentos de código de este documento no cumplen con estos estándares deliberadamente para hacer más accesible el contenido a personas que ven un lenguaje de programación por primera vez."
   ]
  }
 ],
 "metadata": {
  "kernelspec": {
   "display_name": "Python 3",
   "language": "python",
   "name": "python3"
  },
  "language_info": {
   "codemirror_mode": {
    "name": "ipython",
    "version": 3
   },
   "file_extension": ".py",
   "mimetype": "text/x-python",
   "name": "python",
   "nbconvert_exporter": "python",
   "pygments_lexer": "ipython3",
   "version": "3.7.4"
  }
 },
 "nbformat": 4,
 "nbformat_minor": 4
}
